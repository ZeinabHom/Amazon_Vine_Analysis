{
  "nbformat": 4,
  "nbformat_minor": 0,
  "metadata": {
    "colab": {
      "name": "Vine_Review_Analysis.ipynb",
      "provenance": [],
      "collapsed_sections": [],
      "include_colab_link": true
    },
    "kernelspec": {
      "name": "python3",
      "display_name": "Python 3"
    },
    "nteract": {
      "version": "0.12.3"
    },
    "language_info": {
      "name": "python"
    }
  },
  "cells": [
    {
      "cell_type": "markdown",
      "metadata": {
        "id": "view-in-github",
        "colab_type": "text"
      },
      "source": [
        "<a href=\"https://colab.research.google.com/github/ZeinabHom/Amazon_Vine_Analysis/blob/main/Vine_Review_Analysis.ipynb\" target=\"_parent\"><img src=\"https://colab.research.google.com/assets/colab-badge.svg\" alt=\"Open In Colab\"/></a>"
      ]
    },
    {
      "cell_type": "code",
      "metadata": {
        "id": "V58rxea0HqSa",
        "colab": {
          "base_uri": "https://localhost:8080/"
        },
        "outputId": "4e364335-6f9b-4086-abeb-46b7d2d60f05"
      },
      "source": [
        "import os\n",
        "# Find the latest version of spark 3.0 from http://www.apache.org/dist/spark/ and enter as the spark version\n",
        "# For example:\n",
        "# spark_version = 'spark-3.0.3'\n",
        "spark_version = 'spark-3.2.1'\n",
        "os.environ['SPARK_VERSION']=spark_version\n",
        "\n",
        "# Install Spark and Java\n",
        "!apt-get update\n",
        "!apt-get install openjdk-11-jdk-headless -qq > /dev/null\n",
        "!wget -q http://www.apache.org/dist/spark/$SPARK_VERSION/$SPARK_VERSION-bin-hadoop2.7.tgz\n",
        "!tar xf $SPARK_VERSION-bin-hadoop2.7.tgz\n",
        "!pip install -q findspark\n",
        "\n",
        "# Set Environment Variables\n",
        "import os\n",
        "os.environ[\"JAVA_HOME\"] = \"/usr/lib/jvm/java-11-openjdk-amd64\"\n",
        "os.environ[\"SPARK_HOME\"] = f\"/content/{spark_version}-bin-hadoop2.7\"\n",
        "\n",
        "# Start a SparkSession\n",
        "import findspark\n",
        "findspark.init()"
      ],
      "execution_count": 2,
      "outputs": [
        {
          "output_type": "stream",
          "name": "stdout",
          "text": [
            "\r0% [Working]\r            \rGet:1 https://cloud.r-project.org/bin/linux/ubuntu bionic-cran40/ InRelease [3,626 B]\n",
            "Ign:2 https://developer.download.nvidia.com/compute/cuda/repos/ubuntu1804/x86_64  InRelease\n",
            "Get:3 http://ppa.launchpad.net/c2d4u.team/c2d4u4.0+/ubuntu bionic InRelease [15.9 kB]\n",
            "Get:4 http://security.ubuntu.com/ubuntu bionic-security InRelease [88.7 kB]\n",
            "Hit:5 http://archive.ubuntu.com/ubuntu bionic InRelease\n",
            "Ign:6 https://developer.download.nvidia.com/compute/machine-learning/repos/ubuntu1804/x86_64  InRelease\n",
            "Get:7 https://developer.download.nvidia.com/compute/cuda/repos/ubuntu1804/x86_64  Release [696 B]\n",
            "Get:8 http://archive.ubuntu.com/ubuntu bionic-updates InRelease [88.7 kB]\n",
            "Hit:9 https://developer.download.nvidia.com/compute/machine-learning/repos/ubuntu1804/x86_64  Release\n",
            "Get:10 https://developer.download.nvidia.com/compute/cuda/repos/ubuntu1804/x86_64  Release.gpg [836 B]\n",
            "Hit:11 http://ppa.launchpad.net/cran/libgit2/ubuntu bionic InRelease\n",
            "Get:12 http://archive.ubuntu.com/ubuntu bionic-backports InRelease [74.6 kB]\n",
            "Hit:13 http://ppa.launchpad.net/deadsnakes/ppa/ubuntu bionic InRelease\n",
            "Get:14 http://ppa.launchpad.net/graphics-drivers/ppa/ubuntu bionic InRelease [21.3 kB]\n",
            "Get:15 http://ppa.launchpad.net/c2d4u.team/c2d4u4.0+/ubuntu bionic/main Sources [1,827 kB]\n",
            "Get:17 https://developer.download.nvidia.com/compute/cuda/repos/ubuntu1804/x86_64  Packages [930 kB]\n",
            "Get:18 http://security.ubuntu.com/ubuntu bionic-security/universe amd64 Packages [1,474 kB]\n",
            "Get:19 http://ppa.launchpad.net/c2d4u.team/c2d4u4.0+/ubuntu bionic/main amd64 Packages [937 kB]\n",
            "Get:20 http://security.ubuntu.com/ubuntu bionic-security/restricted amd64 Packages [806 kB]\n",
            "Get:21 http://security.ubuntu.com/ubuntu bionic-security/main amd64 Packages [2,596 kB]\n",
            "Get:22 http://archive.ubuntu.com/ubuntu bionic-updates/universe amd64 Packages [2,252 kB]\n",
            "Get:23 http://archive.ubuntu.com/ubuntu bionic-updates/restricted amd64 Packages [840 kB]\n",
            "Get:24 http://archive.ubuntu.com/ubuntu bionic-updates/main amd64 Packages [3,035 kB]\n",
            "Get:25 http://ppa.launchpad.net/graphics-drivers/ppa/ubuntu bionic/main amd64 Packages [42.8 kB]\n",
            "Fetched 15.0 MB in 4s (4,209 kB/s)\n",
            "Reading package lists... Done\n"
          ]
        }
      ]
    },
    {
      "cell_type": "code",
      "metadata": {
        "id": "MMqDAjVS0KN9"
      },
      "source": [
        "from pyspark.sql import SparkSession\n",
        "spark = SparkSession.builder.appName(\"M16-Amazon-Challenge\").config(\"spark.driver.extraClassPath\",\"/content/postgresql-42.2.16.jar\").getOrCreate()"
      ],
      "execution_count": 3,
      "outputs": []
    },
    {
      "cell_type": "markdown",
      "metadata": {
        "id": "cyBsySGuY-9V"
      },
      "source": [
        "### Load Amazon Data into Spark DataFrame"
      ]
    },
    {
      "cell_type": "code",
      "metadata": {
        "id": "CtCmBhQJY-9Z",
        "colab": {
          "base_uri": "https://localhost:8080/"
        },
        "outputId": "53079010-b9cb-4638-a3af-ed3188b3a34f"
      },
      "source": [
        "from pyspark import SparkFiles\n",
        "url = \"https://s3.amazonaws.com/amazon-reviews-pds/tsv/amazon_reviews_us_Home_Entertainment_v1_00.tsv.gz\"\n",
        "spark.sparkContext.addFile(url)\n",
        "df = spark.read.option(\"encoding\", \"UTF-8\").csv(SparkFiles.get(\"\"), sep=\"\\t\", header=True, inferSchema=True)\n",
        "df.show()"
      ],
      "execution_count": 4,
      "outputs": [
        {
          "output_type": "stream",
          "name": "stdout",
          "text": [
            "+-----------+-----------+--------------+----------+--------------+--------------------+------------------+-----------+-------------+-----------+----+-----------------+--------------------+--------------------+-----------+\n",
            "|marketplace|customer_id|     review_id|product_id|product_parent|       product_title|  product_category|star_rating|helpful_votes|total_votes|vine|verified_purchase|     review_headline|         review_body|review_date|\n",
            "+-----------+-----------+--------------+----------+--------------+--------------------+------------------+-----------+-------------+-----------+----+-----------------+--------------------+--------------------+-----------+\n",
            "|         US|     179886| RY01SAV7HZ8QO|B00NTI0CQ2|     667358431|Aketek 1080P LED ...|Home Entertainment|          4|            0|          0|   N|                Y|good enough for m...|not the best pict...| 2015-08-31|\n",
            "|         US|   37293769|R1XX8SDGJ4MZ4L|B00BUCLVZU|     621695622|TiVo Mini with IR...|Home Entertainment|          5|            0|          0|   N|                N|Tell the Cable Co...|Not only do my Ti...| 2015-08-31|\n",
            "|         US|    8332121|R149Q3B5L33NN5|B00RBX9D5W|     143071132|Apple TV MD199LL/...|Home Entertainment|          5|            0|          0|   N|                Y|    Works perfectly!|Works perfectly! ...| 2015-08-31|\n",
            "|         US|   47054962|R2ZVD69Z6KPJ4O|B00UJ3IULO|     567816707|New Roku 3 6.5 Fo...|Home Entertainment|          1|            0|          2|   N|                Y|It doesn't work. ...|It doesn't work. ...| 2015-08-31|\n",
            "|         US|   23413911|R1DIKG2G33ZLNP|B0037UCTXG|     909557698|Generic DVI-I Dua...|Home Entertainment|          4|            0|          0|   N|                Y|         As pictured|I received the it...| 2015-08-31|\n",
            "|         US|    4417771|R3L6FGKAW0EYFI|B004N866SU|     414565179|Samsung 3D LED HD...|Home Entertainment|          1|            1|          1|   N|                N|Only lasts 3-4 ye...|I bought this TV ...| 2015-08-31|\n",
            "|         US|   47900707| RAO0QZH5VC6VI|B00JE6AOJS|     798450889|Jiake Wireless Bl...|Home Entertainment|          1|            0|          0|   N|                Y|            One Star|    Waste of $$$$$$$| 2015-08-31|\n",
            "|         US|   34112894|R25IK0UAHWNB22|B00COL0B7A|     777554234|3pcs/lot 3in1 3ft...|Home Entertainment|          3|            0|          0|   N|                Y|         Three Stars|Nice but all thre...| 2015-08-31|\n",
            "|         US|   20691979|R2A9IHKZMTMAL1|B00QHLSKOE|     885228855|Matricom G-Box Q²...|Home Entertainment|          5|            1|          2|   N|                Y|Yes...exactly wha...|Oh, yeah...doesn'...| 2015-08-31|\n",
            "|         US|   25983343| R5XVKTHL6SITI|B00UNL2MUW|     164482798|VIZIO S2920W-C0B ...|Home Entertainment|          5|            0|          0|   N|                Y|Fantastic sound. ...|Fantastic sound. ...| 2015-08-31|\n",
            "|         US|   35816068|R2QZZOSTDDY1IE|B00RIC9JB4|     184834831|Hitachi 49\" Class...|Home Entertainment|          3|            3|          6|   N|                Y|               risky|Great tv but Tv d...| 2015-08-31|\n",
            "|         US|   10628020|R38CUDCFPSNYTD|B00HPMCO6O|     444378461|Sony BDPS5200 3D ...|Home Entertainment|          5|            0|          0|   N|                Y|          Five Stars|EXCELLENT SERVICE...| 2015-08-31|\n",
            "|         US|    9059625| RM6ZR6NH052YH|B004QGXWS6|     770226547|Sylvania 7-Inch T...|Home Entertainment|          3|            1|          2|   N|                Y|They worked great...|They worked great...| 2015-08-31|\n",
            "|         US|    2681147| RUQK5N4WH8UN8|B00FO12XY6|     448806082|Roku HD Streaming...|Home Entertainment|          5|            0|          0|   N|                Y|          Five Stars|Smooth and worked...| 2015-08-31|\n",
            "|         US|   33449922|R21LWSBQWWJYZ3|B00BD7UVO4|     374427271|LG Electronics BP...|Home Entertainment|          5|            0|          0|   N|                Y|          Five Stars|     Works very well| 2015-08-31|\n",
            "|         US|   43069144| R8W5S53RQ2DF7|B00TRQPEYK|     614207013|LG Electronics LF...|Home Entertainment|          5|            0|          0|   N|                Y|               LG TV|The TV arrived qu...| 2015-08-31|\n",
            "|         US|   46780686|R3ENME3JQBWXZS|B005STXQG8|     689442799|SquareTrade TV Pr...|Home Entertainment|          5|            0|          1|   N|                Y|          Five Stars|well worth the mo...| 2015-08-31|\n",
            "|         US|   49037595|R3URL5K7DHHYK7|B00BEL11RA|     910670994|Cambridge - Azur ...|Home Entertainment|          5|            1|          1|   N|                Y|            Love it.|Great Blu-ray pla...| 2015-08-31|\n",
            "|         US|   27868511|R22YISZKS35YZX|B00QHLSKOE|     885228855|Matricom G-Box Q²...|Home Entertainment|          5|            2|          3|   N|                Y|If your on the fe...|Great media cente...| 2015-08-31|\n",
            "|         US|    3004043|R3IIOLWHWC297U|B00MWCJ8VQ|     946374680|Roku 3500XB Strea...|Home Entertainment|          5|            0|          0|   N|                Y|          Five Stars|       great product| 2015-08-31|\n",
            "+-----------+-----------+--------------+----------+--------------+--------------------+------------------+-----------+-------------+-----------+----+-----------------+--------------------+--------------------+-----------+\n",
            "only showing top 20 rows\n",
            "\n"
          ]
        }
      ]
    },
    {
      "cell_type": "code",
      "source": [
        "# Create the vine_table. DataFrame\n",
        "vine_df = df.select([\"review_id\",\"star_rating\",\"helpful_votes\",\"total_votes\",\"vine\",\"verified_purchase\"])\n",
        "vine_df.show()"
      ],
      "metadata": {
        "colab": {
          "base_uri": "https://localhost:8080/"
        },
        "id": "GcTzgkwznmmB",
        "outputId": "a740bac4-78d9-49bf-edea-2e689bcd9b3e"
      },
      "execution_count": 5,
      "outputs": [
        {
          "output_type": "stream",
          "name": "stdout",
          "text": [
            "+--------------+-----------+-------------+-----------+----+-----------------+\n",
            "|     review_id|star_rating|helpful_votes|total_votes|vine|verified_purchase|\n",
            "+--------------+-----------+-------------+-----------+----+-----------------+\n",
            "| RY01SAV7HZ8QO|          4|            0|          0|   N|                Y|\n",
            "|R1XX8SDGJ4MZ4L|          5|            0|          0|   N|                N|\n",
            "|R149Q3B5L33NN5|          5|            0|          0|   N|                Y|\n",
            "|R2ZVD69Z6KPJ4O|          1|            0|          2|   N|                Y|\n",
            "|R1DIKG2G33ZLNP|          4|            0|          0|   N|                Y|\n",
            "|R3L6FGKAW0EYFI|          1|            1|          1|   N|                N|\n",
            "| RAO0QZH5VC6VI|          1|            0|          0|   N|                Y|\n",
            "|R25IK0UAHWNB22|          3|            0|          0|   N|                Y|\n",
            "|R2A9IHKZMTMAL1|          5|            1|          2|   N|                Y|\n",
            "| R5XVKTHL6SITI|          5|            0|          0|   N|                Y|\n",
            "|R2QZZOSTDDY1IE|          3|            3|          6|   N|                Y|\n",
            "|R38CUDCFPSNYTD|          5|            0|          0|   N|                Y|\n",
            "| RM6ZR6NH052YH|          3|            1|          2|   N|                Y|\n",
            "| RUQK5N4WH8UN8|          5|            0|          0|   N|                Y|\n",
            "|R21LWSBQWWJYZ3|          5|            0|          0|   N|                Y|\n",
            "| R8W5S53RQ2DF7|          5|            0|          0|   N|                Y|\n",
            "|R3ENME3JQBWXZS|          5|            0|          1|   N|                Y|\n",
            "|R3URL5K7DHHYK7|          5|            1|          1|   N|                Y|\n",
            "|R22YISZKS35YZX|          5|            2|          3|   N|                Y|\n",
            "|R3IIOLWHWC297U|          5|            0|          0|   N|                Y|\n",
            "+--------------+-----------+-------------+-----------+----+-----------------+\n",
            "only showing top 20 rows\n",
            "\n"
          ]
        }
      ]
    },
    {
      "cell_type": "code",
      "source": [
        "vine_vote_greater_20_df=vine_df.filter(\"total_votes>=20\")\n",
        "vine_vote_greater_20_df.show()"
      ],
      "metadata": {
        "colab": {
          "base_uri": "https://localhost:8080/"
        },
        "id": "1u3L8hjdoVhb",
        "outputId": "1ef2b974-e391-4bbe-a86d-23493bad07b1"
      },
      "execution_count": 50,
      "outputs": [
        {
          "output_type": "stream",
          "name": "stdout",
          "text": [
            "+--------------+-----------+-------------+-----------+----+-----------------+\n",
            "|     review_id|star_rating|helpful_votes|total_votes|vine|verified_purchase|\n",
            "+--------------+-----------+-------------+-----------+----+-----------------+\n",
            "|R1VCSDR38XTALJ|          1|           33|         40|   N|                N|\n",
            "|R1KMC6B2JRCZ3D|          3|           42|         47|   N|                N|\n",
            "|R1LV778IDGRJQ6|          1|            4|         23|   N|                Y|\n",
            "| RBZE8H6SHVYWW|          3|           77|        110|   N|                N|\n",
            "|R2LBEAGVJA7HK1|          3|            5|         48|   N|                N|\n",
            "|R3UN4H3BW9YTQA|          5|          358|        388|   N|                Y|\n",
            "| R2YKRQ8R3B2Q3|          5|           30|         35|   N|                N|\n",
            "|R1K00VBT0SMD4Z|          1|           50|         60|   N|                Y|\n",
            "|R3QLX5NODD1OJ4|          1|            9|         25|   N|                Y|\n",
            "|R2SOOHE0XUQON1|          1|            2|         24|   N|                N|\n",
            "|R2I9AO0VEBYJES|          4|           47|         57|   N|                Y|\n",
            "|R27EECVZ426CQ5|          1|            3|         25|   N|                N|\n",
            "|R3Q7YJX1I5PDMU|          3|           22|         22|   N|                Y|\n",
            "| RJQQO26UPW1PI|          5|           76|         96|   N|                Y|\n",
            "|R2QJI05ZY7DNSR|          4|           59|         73|   N|                N|\n",
            "|R2MBLFKV5JFTKE|          1|           80|         89|   N|                N|\n",
            "|R1YYR1SP2TS30L|          1|           55|         70|   N|                Y|\n",
            "|R2DYKW0X2B93QG|          2|           50|         63|   N|                Y|\n",
            "|R14QWM0LJO6313|          5|           24|         28|   N|                Y|\n",
            "|R19H4AKN005KL8|          5|           19|         28|   N|                Y|\n",
            "+--------------+-----------+-------------+-----------+----+-----------------+\n",
            "only showing top 20 rows\n",
            "\n"
          ]
        }
      ]
    },
    {
      "cell_type": "code",
      "source": [
        "vine_helpful_df=df.filter(\"helpful_votes/total_votes>=0.5\")\n",
        "vine_helpful_df.show()"
      ],
      "metadata": {
        "colab": {
          "base_uri": "https://localhost:8080/"
        },
        "id": "yTcLBuBEqeY_",
        "outputId": "1b77714b-a563-4d5d-dadd-5f453c0fd751"
      },
      "execution_count": 51,
      "outputs": [
        {
          "output_type": "stream",
          "name": "stdout",
          "text": [
            "+-----------+-----------+--------------+----------+--------------+--------------------+------------------+-----------+-------------+-----------+----+-----------------+--------------------+--------------------+-----------+\n",
            "|marketplace|customer_id|     review_id|product_id|product_parent|       product_title|  product_category|star_rating|helpful_votes|total_votes|vine|verified_purchase|     review_headline|         review_body|review_date|\n",
            "+-----------+-----------+--------------+----------+--------------+--------------------+------------------+-----------+-------------+-----------+----+-----------------+--------------------+--------------------+-----------+\n",
            "|         US|    4417771|R3L6FGKAW0EYFI|B004N866SU|     414565179|Samsung 3D LED HD...|Home Entertainment|          1|            1|          1|   N|                N|Only lasts 3-4 ye...|I bought this TV ...| 2015-08-31|\n",
            "|         US|   20691979|R2A9IHKZMTMAL1|B00QHLSKOE|     885228855|Matricom G-Box Q²...|Home Entertainment|          5|            1|          2|   N|                Y|Yes...exactly wha...|Oh, yeah...doesn'...| 2015-08-31|\n",
            "|         US|   35816068|R2QZZOSTDDY1IE|B00RIC9JB4|     184834831|Hitachi 49\" Class...|Home Entertainment|          3|            3|          6|   N|                Y|               risky|Great tv but Tv d...| 2015-08-31|\n",
            "|         US|    9059625| RM6ZR6NH052YH|B004QGXWS6|     770226547|Sylvania 7-Inch T...|Home Entertainment|          3|            1|          2|   N|                Y|They worked great...|They worked great...| 2015-08-31|\n",
            "|         US|   49037595|R3URL5K7DHHYK7|B00BEL11RA|     910670994|Cambridge - Azur ...|Home Entertainment|          5|            1|          1|   N|                Y|            Love it.|Great Blu-ray pla...| 2015-08-31|\n",
            "|         US|   27868511|R22YISZKS35YZX|B00QHLSKOE|     885228855|Matricom G-Box Q²...|Home Entertainment|          5|            2|          3|   N|                Y|If your on the fe...|Great media cente...| 2015-08-31|\n",
            "|         US|     161319|R1AJ1Y9YZLBH44|B00SMBG8NC|     312322985|VIZIO SB3820-C6 3...|Home Entertainment|          4|            1|          1|   N|                N|     Very satisfied.|The sound is good...| 2015-08-31|\n",
            "|         US|     161161|R1AFSXBDYF7982|B00L403O8U|     962211121|Samsung UN105S9 C...|Home Entertainment|          4|            2|          3|   N|                N|     This is great!!|I no longer have ...| 2015-08-31|\n",
            "|         US|   52634572|R1WCQW580SIGJX|B00CHKPYM0|     906518616|VIZIO M701d-A3R 7...|Home Entertainment|          1|            3|          3|   N|                N|Stay away from Vi...|Likes it until th...| 2015-08-31|\n",
            "|         US|   13983228|R3HGCZUGG2PBJM|B00BB9OPQY|     667434064|LG Electronics LN...|Home Entertainment|          2|            2|          2|   N|                Y|Crapped out in 18...|Lasted 18 months ...| 2015-08-31|\n",
            "|         US|   47323893|R31TORYL7Q8X1B|B00I2ZBD1U|     384314603|Mediasonic HW-150...|Home Entertainment|          2|            1|          1|   N|                Y|When it works, it...|Bought several mo...| 2015-08-31|\n",
            "|         US|   24284435|R1VCSDR38XTALJ|B00WA42GTC|     464704031|Samsung Blu-ray P...|Home Entertainment|          1|           33|         40|   N|                N|Wouldn't recommen...|This Samsung BD-J...| 2015-08-31|\n",
            "|         US|   15243155|R2PFNX2VFLB0RQ|B00SMBG8QY|     751255029|VIZIO SB3821-C6 3...|Home Entertainment|          3|            1|          2|   N|                Y|The Subwoofer is ...|I know the produc...| 2015-08-31|\n",
            "|         US|    6771900|R2H0LEG5RVWU6O|B011SN2LIQ|     905464461|LG Electronics 32...|Home Entertainment|          5|            4|          4|   N|                Y|The TV was very w...|The TV was exactl...| 2015-08-31|\n",
            "|         US|   46780686|R31YKVW3E19WG9|B00LX4OOOA|     631777853|VIZIO P-Series, S...|Home Entertainment|          5|            1|          1|   N|                Y|like the saying g...|this is a man,s m...| 2015-08-31|\n",
            "|         US|   51333833|R2P0NDAF0P8SZB|B00SBG036G|     543467588|Jadoo TV 4 IPTV H...|Home Entertainment|          1|            3|          3|   N|                Y|           Not Good.|Device is heating...| 2015-08-31|\n",
            "|         US|   40896837|R16F7TT5K50CVE|B011DFAOP6|     871670648|Westinghouse LD-2...|Home Entertainment|          5|            1|          1|   N|                Y|and it works like...|We were a bit ner...| 2015-08-31|\n",
            "|         US|    2223330| RKW2XO93WJVIM|B00G6K7OX4|     944576298|Axess 7-Inch, LCD...|Home Entertainment|          5|            1|          1|   N|                Y|     He's happy with|Bought for my hus...| 2015-08-31|\n",
            "|         US|   44277161|R2IPO28F2VOYZJ|B00L403O8U|     962211121|Samsung UN105S9 C...|Home Entertainment|          5|            1|          1|   N|                N|          thumbs up!|After committing ...| 2015-08-31|\n",
            "|         US|   11262897|R3R99SFBOT2EM4|B00R45XL64|     784775515|Sony XBR-X900C Bu...|Home Entertainment|          5|           11|         14|   N|                N|Issues fixed - Gr...|Perfect picture!<...| 2015-08-31|\n",
            "+-----------+-----------+--------------+----------+--------------+--------------------+------------------+-----------+-------------+-----------+----+-----------------+--------------------+--------------------+-----------+\n",
            "only showing top 20 rows\n",
            "\n"
          ]
        }
      ]
    },
    {
      "cell_type": "code",
      "source": [
        "vine_y_df=vine_helpful_df.filter(\"vine == 'Y'\")\n",
        "vine_y_df.show()"
      ],
      "metadata": {
        "colab": {
          "base_uri": "https://localhost:8080/"
        },
        "id": "typjH3qrqpD6",
        "outputId": "8d11bcc4-ae09-41f8-bc6c-e7ddfff41882"
      },
      "execution_count": 52,
      "outputs": [
        {
          "output_type": "stream",
          "name": "stdout",
          "text": [
            "+-----------+-----------+--------------+----------+--------------+--------------------+------------------+-----------+-------------+-----------+----+-----------------+--------------------+--------------------+-----------+\n",
            "|marketplace|customer_id|     review_id|product_id|product_parent|       product_title|  product_category|star_rating|helpful_votes|total_votes|vine|verified_purchase|     review_headline|         review_body|review_date|\n",
            "+-----------+-----------+--------------+----------+--------------+--------------------+------------------+-----------+-------------+-----------+----+-----------------+--------------------+--------------------+-----------+\n",
            "|         US|   51288086|R3LLICBKRHLRJC|B00USEZ7W4|     202667718|Seiki SE32HYT  LE...|Home Entertainment|          4|           17|         22|   Y|                N|Great picture, a ...|Very nice, sharp ...| 2015-08-27|\n",
            "|         US|   20151467| RJRUL44DZXFXU|B00X6AGWRQ|     467547785|Sony BDPS6500 - B...|Home Entertainment|          4|            1|          1|   Y|                N|Great experience ...|Once you get this...| 2015-08-26|\n",
            "|         US|   52512530|R1XKEXPN5SJP3J|B00TYFCJOM|     968612191|Sony BDPS5500 - B...|Home Entertainment|          2|           11|         15|   Y|                N|Sony BDPS5500 3D ...|I had just added ...| 2015-08-24|\n",
            "|         US|   50539458|R35S0Q8N0F6RNR|B00IN4YWGS|     159933424|Panasonic DVD-S48...|Home Entertainment|          4|            2|          2|   Y|                N|Great for music (...|Not a bad price a...| 2015-08-24|\n",
            "|         US|   45838866|R3TT2GSSAJQ4BK|B00TYFCJ8S|     609914359|Sony BDPS3500 - B...|Home Entertainment|          4|            1|          1|   Y|                N|Great features in...|As others have no...| 2015-08-23|\n",
            "|         US|   50853411| RUD135S06DEVE|B00ZIGRX4W|     471919351|Samsung JS7000, S...|Home Entertainment|          5|           41|         51|   Y|                N|Fantastic out-of-...|I've had this tel...| 2015-08-23|\n",
            "|         US|   52708408|R2WG8UL4SGDPDH|B00TYFCJ8S|     609914359|Sony BDPS3500 - B...|Home Entertainment|          4|           23|         25|   Y|                N|One of the best B...|The Sony BDPS3500...| 2015-08-21|\n",
            "|         US|   49234743|R158AOKOA28WS2|B00ZIGRX4W|     471919351|Samsung JS7000, S...|Home Entertainment|          4|           18|         28|   Y|                N|One Giant Step in...|I chose a 5 star ...| 2015-08-21|\n",
            "|         US|   51367435| RGWV3QLJQXU9X|B00U9U8RZQ|     851149807|Samsung J5200 Ser...|Home Entertainment|          5|          332|        380|   Y|                N|Excellent quality...|This TV is very l...| 2015-08-21|\n",
            "|         US|   52933065|R13UBGB64TSA5O|B00U9U8RZQ|     851149807|Samsung J5200 Ser...|Home Entertainment|          4|            5|          5|   Y|                N|Great picture and...|A very good scree...| 2015-08-19|\n",
            "|         US|   51720265| RD0E1RZSSYGGN|B00ZIGRX4W|     471919351|Samsung JS7000, S...|Home Entertainment|          5|          261|        292|   Y|                N|Price, functional...|With the release ...| 2015-08-17|\n",
            "|         US|   53082953|R2K8F6RFANMFKJ|B00TYFCJOM|     968612191|Sony BDPS5500 - B...|Home Entertainment|          4|            1|          1|   Y|                N|The Blu-Ray playe...|The Blu-Ray playe...| 2015-08-13|\n",
            "|         US|   41467824|R1TTVOVSK6NKZ5|B00USEZBQG|      83494932|Seiki SE50FY 50-I...|Home Entertainment|          4|            2|          3|   Y|                N|  Good For the Price|This TV is a tota...| 2015-08-12|\n",
            "|         US|   50304462|R1PUNJN4P6GQX4|B00TYFCJOM|     968612191|Sony BDPS5500 - B...|Home Entertainment|          4|            1|          1|   Y|                N|Excellent playbac...|I love a lot of t...| 2015-08-12|\n",
            "|         US|   15568294|R3QID4IDZ054C0|B00X6AGWRQ|     467547785|Sony BDPS6500 - B...|Home Entertainment|          3|            1|          2|   Y|                N|Great for playing...|This player has f...| 2015-08-12|\n",
            "|         US|   47607399| RLB8TVCNJCBWM|B00X6AGWRQ|     467547785|Sony BDPS6500 - B...|Home Entertainment|          5|            1|          2|   Y|                N|This is the best ...|This is the best ...| 2015-08-11|\n",
            "|         US|   51183828|R2LHQPW7LLNPU3|B00TYFCJOM|     968612191|Sony BDPS5500 - B...|Home Entertainment|          5|            4|          5|   Y|                N|Sony puts out ano...|This is a great l...| 2015-08-10|\n",
            "|         US|   50227539|R3SHKYISZY4CUQ|B00TYFCJOM|     968612191|Sony BDPS5500 - B...|Home Entertainment|          3|            1|          1|   Y|                N|Ok Blu-Ray player...|The Sony players ...| 2015-08-10|\n",
            "|         US|   19111931|R1V1V3O4DVF6PC|B00U9U8RZQ|     851149807|Samsung J5200 Ser...|Home Entertainment|          4|            4|          6|   Y|                N|          Good Value|This tv is attrac...| 2015-08-09|\n",
            "|         US|   48428870|R2EYERTCDB5JUU|B00TYFCJ8S|     609914359|Sony BDPS3500 - B...|Home Entertainment|          2|            1|          2|   Y|                N|Quit working with...|The first thing I...| 2015-08-09|\n",
            "+-----------+-----------+--------------+----------+--------------+--------------------+------------------+-----------+-------------+-----------+----+-----------------+--------------------+--------------------+-----------+\n",
            "only showing top 20 rows\n",
            "\n"
          ]
        }
      ]
    },
    {
      "cell_type": "code",
      "source": [
        "vine_rating_df=vine_df.groupby(\"star_rating\").count()\n",
        "vine_rating_df.show()"
      ],
      "metadata": {
        "colab": {
          "base_uri": "https://localhost:8080/"
        },
        "id": "NIMPNLk8qu7D",
        "outputId": "1eb8857a-1d5d-49a5-dc2b-f0ffa59ced61"
      },
      "execution_count": 53,
      "outputs": [
        {
          "output_type": "stream",
          "name": "stdout",
          "text": [
            "+-----------+------+\n",
            "|star_rating| count|\n",
            "+-----------+------+\n",
            "|          1| 99459|\n",
            "|          3| 57167|\n",
            "|          5|373988|\n",
            "|          4|131508|\n",
            "|          2| 43767|\n",
            "+-----------+------+\n",
            "\n"
          ]
        }
      ]
    },
    {
      "cell_type": "code",
      "source": [
        "vine_df.filter(\"star_rating ==5\").count()"
      ],
      "metadata": {
        "colab": {
          "base_uri": "https://localhost:8080/"
        },
        "id": "5mZpZ6i9qzZz",
        "outputId": "bccff07e-fcd1-4a95-c3ed-ea981841e47b"
      },
      "execution_count": 29,
      "outputs": [
        {
          "output_type": "execute_result",
          "data": {
            "text/plain": [
              "373988"
            ]
          },
          "metadata": {},
          "execution_count": 29
        }
      ]
    },
    {
      "cell_type": "code",
      "source": [
        "vine_df.filter(\"(vine == 'N')\").count()"
      ],
      "metadata": {
        "colab": {
          "base_uri": "https://localhost:8080/"
        },
        "id": "_c75z4xOq3Bn",
        "outputId": "ee73c9e0-3bb4-43fa-82d9-fdc78a426ade"
      },
      "execution_count": 44,
      "outputs": [
        {
          "output_type": "execute_result",
          "data": {
            "text/plain": [
              "703783"
            ]
          },
          "metadata": {},
          "execution_count": 44
        }
      ]
    },
    {
      "cell_type": "code",
      "source": [
        "vine_df.filter(\"(vine == 'Y')\").count()"
      ],
      "metadata": {
        "colab": {
          "base_uri": "https://localhost:8080/"
        },
        "id": "VSBGGWUAq6an",
        "outputId": "1cbaa5a1-eb34-48e3-ee0a-e063bf14cf74"
      },
      "execution_count": 45,
      "outputs": [
        {
          "output_type": "execute_result",
          "data": {
            "text/plain": [
              "2106"
            ]
          },
          "metadata": {},
          "execution_count": 45
        }
      ]
    },
    {
      "cell_type": "code",
      "source": [
        "(vine_df.filter(\"star_rating ==5\").count())/(vine_df.filter(\"(vine == 'N')\").count())*100"
      ],
      "metadata": {
        "colab": {
          "base_uri": "https://localhost:8080/"
        },
        "id": "MEZW9mqoq97s",
        "outputId": "44afd76a-b511-4427-c303-c1e95bff83a5"
      },
      "execution_count": 46,
      "outputs": [
        {
          "output_type": "execute_result",
          "data": {
            "text/plain": [
              "53.13967515555221"
            ]
          },
          "metadata": {},
          "execution_count": 46
        }
      ]
    },
    {
      "cell_type": "code",
      "source": [
        "(vine_df.filter(\"star_rating ==5\").count())/(vine_df.filter(\"vine == 'Y'\").count())*100"
      ],
      "metadata": {
        "colab": {
          "base_uri": "https://localhost:8080/"
        },
        "id": "gN2JjrtzrBi2",
        "outputId": "a58d1b8b-7b1d-46c3-9224-38f502fa41a3"
      },
      "execution_count": 33,
      "outputs": [
        {
          "output_type": "execute_result",
          "data": {
            "text/plain": [
              "17758.21462488129"
            ]
          },
          "metadata": {},
          "execution_count": 33
        }
      ]
    },
    {
      "cell_type": "code",
      "source": [
        "(vine_df.filter(\"star_rating ==5\").count())/(vine_df.filter(\"(verified_purchase == 'N')\").count())*100"
      ],
      "metadata": {
        "colab": {
          "base_uri": "https://localhost:8080/"
        },
        "id": "I09fGurDrFYG",
        "outputId": "0a78cdbd-79fb-45e7-9a4d-a6b0283ef4c1"
      },
      "execution_count": 47,
      "outputs": [
        {
          "output_type": "execute_result",
          "data": {
            "text/plain": [
              "205.54212099894477"
            ]
          },
          "metadata": {},
          "execution_count": 47
        }
      ]
    },
    {
      "cell_type": "code",
      "source": [
        "(vine_df.filter(\"star_rating ==5\").count())/(vine_df.filter(\"(verified_purchase == 'Y')\").count())*100"
      ],
      "metadata": {
        "colab": {
          "base_uri": "https://localhost:8080/"
        },
        "id": "oGu7MdOurJ3x",
        "outputId": "5a9bcf23-5249-4139-dc60-da42bcaf90b5"
      },
      "execution_count": 48,
      "outputs": [
        {
          "output_type": "execute_result",
          "data": {
            "text/plain": [
              "71.38033771235854"
            ]
          },
          "metadata": {},
          "execution_count": 48
        }
      ]
    }
  ]
}